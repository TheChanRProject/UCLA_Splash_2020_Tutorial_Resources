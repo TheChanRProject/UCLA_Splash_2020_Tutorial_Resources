{
  "nbformat": 4,
  "nbformat_minor": 0,
  "metadata": {
    "colab": {
      "name": "Random Tutorial.ipynb",
      "provenance": [],
      "include_colab_link": true
    },
    "kernelspec": {
      "name": "python3",
      "display_name": "Python 3"
    }
  },
  "cells": [
    {
      "cell_type": "markdown",
      "metadata": {
        "id": "view-in-github",
        "colab_type": "text"
      },
      "source": [
        "<a href=\"https://colab.research.google.com/github/TheChanRProject/UCLA_Splash_2020_Tutorial_Resources/blob/master/Random_Tutorial.ipynb\" target=\"_parent\"><img src=\"https://colab.research.google.com/assets/colab-badge.svg\" alt=\"Open In Colab\"/></a>"
      ]
    },
    {
      "cell_type": "markdown",
      "metadata": {
        "id": "An3_AcMMUioD",
        "colab_type": "text"
      },
      "source": [
        "# Numpy Random Tutorial \n",
        "\n",
        "We are going to demonstrate how to use random in Numpy. \n",
        "\n",
        "When you look at this image, what do you think of?\n",
        "\n",
        "![](images/random.png) "
      ]
    },
    {
      "cell_type": "code",
      "metadata": {
        "id": "E5C4GLdkUUAd",
        "colab_type": "code",
        "colab": {}
      },
      "source": [
        ""
      ],
      "execution_count": 0,
      "outputs": []
    }
  ]
}